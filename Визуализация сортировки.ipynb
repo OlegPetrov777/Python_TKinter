{
 "cells": [
  {
   "cell_type": "code",
   "execution_count": 19,
   "metadata": {},
   "outputs": [],
   "source": [
    "from tkinter import *\n",
    "from random import randint\n",
    "root = Tk()\n",
    "size = 100\n",
    "c = Canvas(root, width=size, height=size)\n",
    "c.pack()\n",
    "\n",
    "lines = []\n",
    "values = []"
   ]
  },
  {
   "cell_type": "code",
   "execution_count": 20,
   "metadata": {},
   "outputs": [],
   "source": [
    "for i in range(size):\n",
    "    l = randint(1, size-10)\n",
    "    line = c.create_line(i, 0, i, l)\n",
    "    values.append(l)\n",
    "    lines.append(line)"
   ]
  },
  {
   "cell_type": "code",
   "execution_count": null,
   "metadata": {},
   "outputs": [],
   "source": [
    "# i = 0\n",
    "# j = 0\n",
    "# def m():\n",
    "#     global i\n",
    "#     global j\n",
    "    \n",
    "#     if i < size-1:\n",
    "#         if j <= size-i-2:\n",
    "#             if c.coords(lines[j])[3] < c.coords(lines[j+1])[3]:\n",
    "#                 temp = c.coords(lines[j])\n",
    "#                 l1 = c.coords(lines[j])\n",
    "#                 l2 = c.coords(lines[j+1])\n",
    "#                 l1[3], l2[3] = l2[3], l1[3]\n",
    "#                 c.coords(lines[j], l1)\n",
    "#                 c.coords(lines[j+1], l2)\n",
    "#             j += 1\n",
    "#             root.after(10, m)\n",
    "#         else:\n",
    "#             j = 0\n",
    "#             i += 1\n",
    "#             root.after(10, m)\n",
    "        "
   ]
  },
  {
   "cell_type": "code",
   "execution_count": 21,
   "metadata": {},
   "outputs": [],
   "source": [
    "i = 0\n",
    "def m():\n",
    "    global i\n",
    "    \n",
    "    if i < size:\n",
    "        for j in range(size-i-1):\n",
    "            if c.coords(lines[j])[3] < c.coords(lines[j+1])[3]:\n",
    "                temp = c.coords(lines[j])\n",
    "                l1 = c.coords(lines[j])\n",
    "                l2 = c.coords(lines[j+1])\n",
    "                l1[3], l2[3] = l2[3], l1[3]\n",
    "                c.coords(lines[j], l1)\n",
    "                c.coords(lines[j+1], l2)\n",
    "            root.after(10)\n",
    "        i += 1\n",
    "        root.after(10, m)\n",
    "        "
   ]
  },
  {
   "cell_type": "code",
   "execution_count": 22,
   "metadata": {},
   "outputs": [],
   "source": [
    "m()\n",
    "root.mainloop()"
   ]
  },
  {
   "cell_type": "code",
   "execution_count": null,
   "metadata": {},
   "outputs": [],
   "source": []
  },
  {
   "cell_type": "code",
   "execution_count": null,
   "metadata": {},
   "outputs": [],
   "source": []
  },
  {
   "cell_type": "code",
   "execution_count": null,
   "metadata": {},
   "outputs": [],
   "source": []
  },
  {
   "cell_type": "code",
   "execution_count": null,
   "metadata": {},
   "outputs": [],
   "source": []
  }
 ],
 "metadata": {
  "kernelspec": {
   "display_name": "Python 3",
   "language": "python",
   "name": "python3"
  },
  "language_info": {
   "codemirror_mode": {
    "name": "ipython",
    "version": 3
   },
   "file_extension": ".py",
   "mimetype": "text/x-python",
   "name": "python",
   "nbconvert_exporter": "python",
   "pygments_lexer": "ipython3",
   "version": "3.7.4"
  }
 },
 "nbformat": 4,
 "nbformat_minor": 2
}
