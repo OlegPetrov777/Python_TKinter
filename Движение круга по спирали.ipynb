{
 "cells": [
  {
   "cell_type": "markdown",
   "metadata": {},
   "source": [
    "# Движение круга по спирали "
   ]
  },
  {
   "cell_type": "code",
   "execution_count": 1,
   "metadata": {},
   "outputs": [],
   "source": [
    "from tkinter import *\n",
    "from math import *\n",
    "import time\n",
    "\n",
    "root = Tk()\n",
    "c = Canvas(root, width=600, height=600, bg=\"green\")\n",
    "c.pack()\n",
    "\n",
    "\n",
    "r = 10;\n",
    "center_1 = 300; center_2 = 300\n",
    "\n",
    "m_p = c.create_oval(center_1-r, center_2-r, center_1+r, center_2+r, fill=\"red\")\n",
    "iteration_g = 0; scale_a = 5; num_of_step = 1000\n",
    "\n",
    "def motion():\n",
    "    global iteration_g; global scale_a; global num_of_step; global check_rational\n",
    "    iteration = iteration_g\n",
    "    fi_1 = pi*iteration/num_of_step; fi_2 = pi*(iteration+1)/num_of_step\n",
    "    r_1 = scale_a * fi_1; r_2 = scale_a * fi_2 \n",
    "    c.move(m_p,r_2*cos(fi_2)-r_1*cos(fi_1),r_2*sin(fi_2)-r_1*sin(fi_1))\n",
    "    c.create_line(center_1+r_1*cos(fi_1),center_2+r_1*sin(fi_1),center_1+r_2*cos(fi_2),center_2+r_2*sin(fi_2), fill = \"yellow\")\n",
    "    if True:\n",
    "        root.after(1, motion)\n",
    "    iteration_g += 1\n",
    "\n",
    "motion()\n",
    "    \n",
    "root.mainloop()"
   ]
  },
  {
   "cell_type": "code",
   "execution_count": null,
   "metadata": {},
   "outputs": [],
   "source": []
  }
 ],
 "metadata": {
  "kernelspec": {
   "display_name": "Python 3",
   "language": "python",
   "name": "python3"
  },
  "language_info": {
   "codemirror_mode": {
    "name": "ipython",
    "version": 3
   },
   "file_extension": ".py",
   "mimetype": "text/x-python",
   "name": "python",
   "nbconvert_exporter": "python",
   "pygments_lexer": "ipython3",
   "version": "3.7.4"
  }
 },
 "nbformat": 4,
 "nbformat_minor": 2
}
